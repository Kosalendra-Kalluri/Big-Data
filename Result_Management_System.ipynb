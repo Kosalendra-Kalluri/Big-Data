{
  "cells": [
    {
      "cell_type": "markdown",
      "metadata": {
        "id": "h26v2Hp5PjuY"
      },
      "source": [
        "\n",
        "##### Install the dependencies faker library\n",
        "\n"
      ]
    },
    {
      "cell_type": "code",
      "execution_count": null,
      "metadata": {
        "colab": {
          "base_uri": "https://localhost:8080/"
        },
        "id": "yNkNvo7UPHxc",
        "outputId": "efd5f15f-668d-4bed-fee6-29cb00d7d949"
      },
      "outputs": [
        {
          "output_type": "stream",
          "name": "stdout",
          "text": [
            "Collecting faker\n",
            "  Downloading Faker-36.1.1-py3-none-any.whl.metadata (15 kB)\n",
            "Requirement already satisfied: tzdata in /usr/local/lib/python3.11/dist-packages (from faker) (2025.1)\n",
            "Downloading Faker-36.1.1-py3-none-any.whl (1.9 MB)\n",
            "\u001b[2K   \u001b[90m━━━━━━━━━━━━━━━━━━━━━━━━━━━━━━━━━━━━━━━━\u001b[0m \u001b[32m1.9/1.9 MB\u001b[0m \u001b[31m22.4 MB/s\u001b[0m eta \u001b[36m0:00:00\u001b[0m\n",
            "\u001b[?25hInstalling collected packages: faker\n",
            "Successfully installed faker-36.1.1\n"
          ]
        }
      ],
      "source": [
        "pip install faker"
      ]
    },
    {
      "cell_type": "markdown",
      "metadata": {
        "id": "D6p405QMPtP7"
      },
      "source": [
        "#####Imprort faker library"
      ]
    },
    {
      "cell_type": "code",
      "execution_count": null,
      "metadata": {
        "id": "i7WDgHCDPNDN"
      },
      "outputs": [],
      "source": [
        "from faker import Faker"
      ]
    },
    {
      "cell_type": "markdown",
      "metadata": {
        "id": "28xBuCOLPwmP"
      },
      "source": [
        "#####Using it to generate fake data for 10k students"
      ]
    },
    {
      "cell_type": "code",
      "execution_count": null,
      "metadata": {
        "colab": {
          "base_uri": "https://localhost:8080/"
        },
        "id": "n9hcOqMuOM-e",
        "outputId": "6bdae585-834b-4728-f8f7-6e96f6df7dc1"
      },
      "outputs": [
        {
          "output_type": "stream",
          "name": "stdout",
          "text": [
            "Student data generated successfully!\n"
          ]
        }
      ],
      "source": [
        "import random\n",
        "import pandas as pd\n",
        "# Initialize Faker\n",
        "fake = Faker()\n",
        "\n",
        "# Define subjects\n",
        "subjects = [\"Electronics\", \"Mathematics\", \"DSA\", \"Programming\", \"Database\", \"Data Science\"]\n",
        "\n",
        "# Generate student data\n",
        "students = []\n",
        "for student_id in range(1, 10001):  # 10,000 students\n",
        "    student_name = fake.name()  # Generate a fake name\n",
        "    department = random.choice([\"CSE\", \"ECE\", \"IT\", \"EEE\"])  # Choose a random department\n",
        "    year = random.randint(1, 4)  # Choose a random year (1st - 4th)\n",
        "\n",
        "    # Generate marks for each subject (0 to 100)\n",
        "    marks = {subject: random.randint(30, 100) for subject in subjects}\n",
        "\n",
        "    # Create student dictionary\n",
        "    student = {\n",
        "        \"Student_ID\": student_id,\n",
        "        \"Name\": student_name,\n",
        "        \"Department\": department,\n",
        "        \"Year\": year,\n",
        "        **marks  # Unpacking marks dictionary\n",
        "    }\n",
        "    students.append(student)\n",
        "\n",
        "# Convert to Pandas DataFrame\n",
        "df = pd.DataFrame(students)\n",
        "\n",
        "# Save to CSV\n",
        "df.to_csv(\"students_data.csv\", index=False)\n",
        "\n",
        "print(\"Student data generated successfully!\")"
      ]
    },
    {
      "cell_type": "markdown",
      "metadata": {
        "id": "ys-DlEQmP2b8"
      },
      "source": [
        "#####Data generated successfully and now it is time for hadoop to come into picture"
      ]
    },
    {
      "cell_type": "markdown",
      "metadata": {
        "id": "NVcD-eeeVvMh"
      },
      "source": [
        "##### Reading the dataset to confirm the data in it"
      ]
    },
    {
      "cell_type": "code",
      "execution_count": null,
      "metadata": {
        "colab": {
          "base_uri": "https://localhost:8080/",
          "height": 206
        },
        "id": "Eo4ai9GyP-fx",
        "outputId": "a85f481b-7611-43f1-ba66-e7aef61ccf81"
      },
      "outputs": [
        {
          "output_type": "execute_result",
          "data": {
            "text/plain": [
              "   Student_ID            Name Department  Year  Electronics  Mathematics  DSA  \\\n",
              "0           1   Matthew Moore        ECE     4           89           61   88   \n",
              "1           2     Amy Johnson        EEE     3           82           90   58   \n",
              "2           3   Maria Delgado        ECE     3           87           56   85   \n",
              "3           4  Rebecca Campos         IT     3           77           41   72   \n",
              "4           5     John Barber        CSE     4           64           35   56   \n",
              "\n",
              "   Programming  Database  Data Science  \n",
              "0           47        45            48  \n",
              "1           31        82            41  \n",
              "2           48        44            35  \n",
              "3           43        73            91  \n",
              "4           40        83            85  "
            ],
            "text/html": [
              "\n",
              "  <div id=\"df-b53744b7-320e-4da3-b1b3-45762430323c\" class=\"colab-df-container\">\n",
              "    <div>\n",
              "<style scoped>\n",
              "    .dataframe tbody tr th:only-of-type {\n",
              "        vertical-align: middle;\n",
              "    }\n",
              "\n",
              "    .dataframe tbody tr th {\n",
              "        vertical-align: top;\n",
              "    }\n",
              "\n",
              "    .dataframe thead th {\n",
              "        text-align: right;\n",
              "    }\n",
              "</style>\n",
              "<table border=\"1\" class=\"dataframe\">\n",
              "  <thead>\n",
              "    <tr style=\"text-align: right;\">\n",
              "      <th></th>\n",
              "      <th>Student_ID</th>\n",
              "      <th>Name</th>\n",
              "      <th>Department</th>\n",
              "      <th>Year</th>\n",
              "      <th>Electronics</th>\n",
              "      <th>Mathematics</th>\n",
              "      <th>DSA</th>\n",
              "      <th>Programming</th>\n",
              "      <th>Database</th>\n",
              "      <th>Data Science</th>\n",
              "    </tr>\n",
              "  </thead>\n",
              "  <tbody>\n",
              "    <tr>\n",
              "      <th>0</th>\n",
              "      <td>1</td>\n",
              "      <td>Matthew Moore</td>\n",
              "      <td>ECE</td>\n",
              "      <td>4</td>\n",
              "      <td>89</td>\n",
              "      <td>61</td>\n",
              "      <td>88</td>\n",
              "      <td>47</td>\n",
              "      <td>45</td>\n",
              "      <td>48</td>\n",
              "    </tr>\n",
              "    <tr>\n",
              "      <th>1</th>\n",
              "      <td>2</td>\n",
              "      <td>Amy Johnson</td>\n",
              "      <td>EEE</td>\n",
              "      <td>3</td>\n",
              "      <td>82</td>\n",
              "      <td>90</td>\n",
              "      <td>58</td>\n",
              "      <td>31</td>\n",
              "      <td>82</td>\n",
              "      <td>41</td>\n",
              "    </tr>\n",
              "    <tr>\n",
              "      <th>2</th>\n",
              "      <td>3</td>\n",
              "      <td>Maria Delgado</td>\n",
              "      <td>ECE</td>\n",
              "      <td>3</td>\n",
              "      <td>87</td>\n",
              "      <td>56</td>\n",
              "      <td>85</td>\n",
              "      <td>48</td>\n",
              "      <td>44</td>\n",
              "      <td>35</td>\n",
              "    </tr>\n",
              "    <tr>\n",
              "      <th>3</th>\n",
              "      <td>4</td>\n",
              "      <td>Rebecca Campos</td>\n",
              "      <td>IT</td>\n",
              "      <td>3</td>\n",
              "      <td>77</td>\n",
              "      <td>41</td>\n",
              "      <td>72</td>\n",
              "      <td>43</td>\n",
              "      <td>73</td>\n",
              "      <td>91</td>\n",
              "    </tr>\n",
              "    <tr>\n",
              "      <th>4</th>\n",
              "      <td>5</td>\n",
              "      <td>John Barber</td>\n",
              "      <td>CSE</td>\n",
              "      <td>4</td>\n",
              "      <td>64</td>\n",
              "      <td>35</td>\n",
              "      <td>56</td>\n",
              "      <td>40</td>\n",
              "      <td>83</td>\n",
              "      <td>85</td>\n",
              "    </tr>\n",
              "  </tbody>\n",
              "</table>\n",
              "</div>\n",
              "    <div class=\"colab-df-buttons\">\n",
              "\n",
              "  <div class=\"colab-df-container\">\n",
              "    <button class=\"colab-df-convert\" onclick=\"convertToInteractive('df-b53744b7-320e-4da3-b1b3-45762430323c')\"\n",
              "            title=\"Convert this dataframe to an interactive table.\"\n",
              "            style=\"display:none;\">\n",
              "\n",
              "  <svg xmlns=\"http://www.w3.org/2000/svg\" height=\"24px\" viewBox=\"0 -960 960 960\">\n",
              "    <path d=\"M120-120v-720h720v720H120Zm60-500h600v-160H180v160Zm220 220h160v-160H400v160Zm0 220h160v-160H400v160ZM180-400h160v-160H180v160Zm440 0h160v-160H620v160ZM180-180h160v-160H180v160Zm440 0h160v-160H620v160Z\"/>\n",
              "  </svg>\n",
              "    </button>\n",
              "\n",
              "  <style>\n",
              "    .colab-df-container {\n",
              "      display:flex;\n",
              "      gap: 12px;\n",
              "    }\n",
              "\n",
              "    .colab-df-convert {\n",
              "      background-color: #E8F0FE;\n",
              "      border: none;\n",
              "      border-radius: 50%;\n",
              "      cursor: pointer;\n",
              "      display: none;\n",
              "      fill: #1967D2;\n",
              "      height: 32px;\n",
              "      padding: 0 0 0 0;\n",
              "      width: 32px;\n",
              "    }\n",
              "\n",
              "    .colab-df-convert:hover {\n",
              "      background-color: #E2EBFA;\n",
              "      box-shadow: 0px 1px 2px rgba(60, 64, 67, 0.3), 0px 1px 3px 1px rgba(60, 64, 67, 0.15);\n",
              "      fill: #174EA6;\n",
              "    }\n",
              "\n",
              "    .colab-df-buttons div {\n",
              "      margin-bottom: 4px;\n",
              "    }\n",
              "\n",
              "    [theme=dark] .colab-df-convert {\n",
              "      background-color: #3B4455;\n",
              "      fill: #D2E3FC;\n",
              "    }\n",
              "\n",
              "    [theme=dark] .colab-df-convert:hover {\n",
              "      background-color: #434B5C;\n",
              "      box-shadow: 0px 1px 3px 1px rgba(0, 0, 0, 0.15);\n",
              "      filter: drop-shadow(0px 1px 2px rgba(0, 0, 0, 0.3));\n",
              "      fill: #FFFFFF;\n",
              "    }\n",
              "  </style>\n",
              "\n",
              "    <script>\n",
              "      const buttonEl =\n",
              "        document.querySelector('#df-b53744b7-320e-4da3-b1b3-45762430323c button.colab-df-convert');\n",
              "      buttonEl.style.display =\n",
              "        google.colab.kernel.accessAllowed ? 'block' : 'none';\n",
              "\n",
              "      async function convertToInteractive(key) {\n",
              "        const element = document.querySelector('#df-b53744b7-320e-4da3-b1b3-45762430323c');\n",
              "        const dataTable =\n",
              "          await google.colab.kernel.invokeFunction('convertToInteractive',\n",
              "                                                    [key], {});\n",
              "        if (!dataTable) return;\n",
              "\n",
              "        const docLinkHtml = 'Like what you see? Visit the ' +\n",
              "          '<a target=\"_blank\" href=https://colab.research.google.com/notebooks/data_table.ipynb>data table notebook</a>'\n",
              "          + ' to learn more about interactive tables.';\n",
              "        element.innerHTML = '';\n",
              "        dataTable['output_type'] = 'display_data';\n",
              "        await google.colab.output.renderOutput(dataTable, element);\n",
              "        const docLink = document.createElement('div');\n",
              "        docLink.innerHTML = docLinkHtml;\n",
              "        element.appendChild(docLink);\n",
              "      }\n",
              "    </script>\n",
              "  </div>\n",
              "\n",
              "\n",
              "<div id=\"df-d07c0c8f-c7c8-4836-81de-ebac9e92533f\">\n",
              "  <button class=\"colab-df-quickchart\" onclick=\"quickchart('df-d07c0c8f-c7c8-4836-81de-ebac9e92533f')\"\n",
              "            title=\"Suggest charts\"\n",
              "            style=\"display:none;\">\n",
              "\n",
              "<svg xmlns=\"http://www.w3.org/2000/svg\" height=\"24px\"viewBox=\"0 0 24 24\"\n",
              "     width=\"24px\">\n",
              "    <g>\n",
              "        <path d=\"M19 3H5c-1.1 0-2 .9-2 2v14c0 1.1.9 2 2 2h14c1.1 0 2-.9 2-2V5c0-1.1-.9-2-2-2zM9 17H7v-7h2v7zm4 0h-2V7h2v10zm4 0h-2v-4h2v4z\"/>\n",
              "    </g>\n",
              "</svg>\n",
              "  </button>\n",
              "\n",
              "<style>\n",
              "  .colab-df-quickchart {\n",
              "      --bg-color: #E8F0FE;\n",
              "      --fill-color: #1967D2;\n",
              "      --hover-bg-color: #E2EBFA;\n",
              "      --hover-fill-color: #174EA6;\n",
              "      --disabled-fill-color: #AAA;\n",
              "      --disabled-bg-color: #DDD;\n",
              "  }\n",
              "\n",
              "  [theme=dark] .colab-df-quickchart {\n",
              "      --bg-color: #3B4455;\n",
              "      --fill-color: #D2E3FC;\n",
              "      --hover-bg-color: #434B5C;\n",
              "      --hover-fill-color: #FFFFFF;\n",
              "      --disabled-bg-color: #3B4455;\n",
              "      --disabled-fill-color: #666;\n",
              "  }\n",
              "\n",
              "  .colab-df-quickchart {\n",
              "    background-color: var(--bg-color);\n",
              "    border: none;\n",
              "    border-radius: 50%;\n",
              "    cursor: pointer;\n",
              "    display: none;\n",
              "    fill: var(--fill-color);\n",
              "    height: 32px;\n",
              "    padding: 0;\n",
              "    width: 32px;\n",
              "  }\n",
              "\n",
              "  .colab-df-quickchart:hover {\n",
              "    background-color: var(--hover-bg-color);\n",
              "    box-shadow: 0 1px 2px rgba(60, 64, 67, 0.3), 0 1px 3px 1px rgba(60, 64, 67, 0.15);\n",
              "    fill: var(--button-hover-fill-color);\n",
              "  }\n",
              "\n",
              "  .colab-df-quickchart-complete:disabled,\n",
              "  .colab-df-quickchart-complete:disabled:hover {\n",
              "    background-color: var(--disabled-bg-color);\n",
              "    fill: var(--disabled-fill-color);\n",
              "    box-shadow: none;\n",
              "  }\n",
              "\n",
              "  .colab-df-spinner {\n",
              "    border: 2px solid var(--fill-color);\n",
              "    border-color: transparent;\n",
              "    border-bottom-color: var(--fill-color);\n",
              "    animation:\n",
              "      spin 1s steps(1) infinite;\n",
              "  }\n",
              "\n",
              "  @keyframes spin {\n",
              "    0% {\n",
              "      border-color: transparent;\n",
              "      border-bottom-color: var(--fill-color);\n",
              "      border-left-color: var(--fill-color);\n",
              "    }\n",
              "    20% {\n",
              "      border-color: transparent;\n",
              "      border-left-color: var(--fill-color);\n",
              "      border-top-color: var(--fill-color);\n",
              "    }\n",
              "    30% {\n",
              "      border-color: transparent;\n",
              "      border-left-color: var(--fill-color);\n",
              "      border-top-color: var(--fill-color);\n",
              "      border-right-color: var(--fill-color);\n",
              "    }\n",
              "    40% {\n",
              "      border-color: transparent;\n",
              "      border-right-color: var(--fill-color);\n",
              "      border-top-color: var(--fill-color);\n",
              "    }\n",
              "    60% {\n",
              "      border-color: transparent;\n",
              "      border-right-color: var(--fill-color);\n",
              "    }\n",
              "    80% {\n",
              "      border-color: transparent;\n",
              "      border-right-color: var(--fill-color);\n",
              "      border-bottom-color: var(--fill-color);\n",
              "    }\n",
              "    90% {\n",
              "      border-color: transparent;\n",
              "      border-bottom-color: var(--fill-color);\n",
              "    }\n",
              "  }\n",
              "</style>\n",
              "\n",
              "  <script>\n",
              "    async function quickchart(key) {\n",
              "      const quickchartButtonEl =\n",
              "        document.querySelector('#' + key + ' button');\n",
              "      quickchartButtonEl.disabled = true;  // To prevent multiple clicks.\n",
              "      quickchartButtonEl.classList.add('colab-df-spinner');\n",
              "      try {\n",
              "        const charts = await google.colab.kernel.invokeFunction(\n",
              "            'suggestCharts', [key], {});\n",
              "      } catch (error) {\n",
              "        console.error('Error during call to suggestCharts:', error);\n",
              "      }\n",
              "      quickchartButtonEl.classList.remove('colab-df-spinner');\n",
              "      quickchartButtonEl.classList.add('colab-df-quickchart-complete');\n",
              "    }\n",
              "    (() => {\n",
              "      let quickchartButtonEl =\n",
              "        document.querySelector('#df-d07c0c8f-c7c8-4836-81de-ebac9e92533f button');\n",
              "      quickchartButtonEl.style.display =\n",
              "        google.colab.kernel.accessAllowed ? 'block' : 'none';\n",
              "    })();\n",
              "  </script>\n",
              "</div>\n",
              "\n",
              "    </div>\n",
              "  </div>\n"
            ],
            "application/vnd.google.colaboratory.intrinsic+json": {
              "type": "dataframe",
              "variable_name": "df",
              "summary": "{\n  \"name\": \"df\",\n  \"rows\": 10000,\n  \"fields\": [\n    {\n      \"column\": \"Student_ID\",\n      \"properties\": {\n        \"dtype\": \"number\",\n        \"std\": 2886,\n        \"min\": 1,\n        \"max\": 10000,\n        \"num_unique_values\": 10000,\n        \"samples\": [\n          6253,\n          4685,\n          1732\n        ],\n        \"semantic_type\": \"\",\n        \"description\": \"\"\n      }\n    },\n    {\n      \"column\": \"Name\",\n      \"properties\": {\n        \"dtype\": \"string\",\n        \"num_unique_values\": 9382,\n        \"samples\": [\n          \"Christopher Barnes\",\n          \"Ryan Robinson\",\n          \"Daniel Ellis\"\n        ],\n        \"semantic_type\": \"\",\n        \"description\": \"\"\n      }\n    },\n    {\n      \"column\": \"Department\",\n      \"properties\": {\n        \"dtype\": \"category\",\n        \"num_unique_values\": 4,\n        \"samples\": [\n          \"EEE\",\n          \"CSE\",\n          \"ECE\"\n        ],\n        \"semantic_type\": \"\",\n        \"description\": \"\"\n      }\n    },\n    {\n      \"column\": \"Year\",\n      \"properties\": {\n        \"dtype\": \"number\",\n        \"std\": 1,\n        \"min\": 1,\n        \"max\": 4,\n        \"num_unique_values\": 4,\n        \"samples\": [\n          3,\n          1,\n          4\n        ],\n        \"semantic_type\": \"\",\n        \"description\": \"\"\n      }\n    },\n    {\n      \"column\": \"Electronics\",\n      \"properties\": {\n        \"dtype\": \"number\",\n        \"std\": 20,\n        \"min\": 30,\n        \"max\": 100,\n        \"num_unique_values\": 71,\n        \"samples\": [\n          44,\n          89,\n          79\n        ],\n        \"semantic_type\": \"\",\n        \"description\": \"\"\n      }\n    },\n    {\n      \"column\": \"Mathematics\",\n      \"properties\": {\n        \"dtype\": \"number\",\n        \"std\": 20,\n        \"min\": 30,\n        \"max\": 100,\n        \"num_unique_values\": 71,\n        \"samples\": [\n          80,\n          61,\n          33\n        ],\n        \"semantic_type\": \"\",\n        \"description\": \"\"\n      }\n    },\n    {\n      \"column\": \"DSA\",\n      \"properties\": {\n        \"dtype\": \"number\",\n        \"std\": 20,\n        \"min\": 30,\n        \"max\": 100,\n        \"num_unique_values\": 71,\n        \"samples\": [\n          91,\n          88,\n          46\n        ],\n        \"semantic_type\": \"\",\n        \"description\": \"\"\n      }\n    },\n    {\n      \"column\": \"Programming\",\n      \"properties\": {\n        \"dtype\": \"number\",\n        \"std\": 20,\n        \"min\": 30,\n        \"max\": 100,\n        \"num_unique_values\": 71,\n        \"samples\": [\n          78,\n          47,\n          32\n        ],\n        \"semantic_type\": \"\",\n        \"description\": \"\"\n      }\n    },\n    {\n      \"column\": \"Database\",\n      \"properties\": {\n        \"dtype\": \"number\",\n        \"std\": 20,\n        \"min\": 30,\n        \"max\": 100,\n        \"num_unique_values\": 71,\n        \"samples\": [\n          90,\n          45,\n          94\n        ],\n        \"semantic_type\": \"\",\n        \"description\": \"\"\n      }\n    },\n    {\n      \"column\": \"Data Science\",\n      \"properties\": {\n        \"dtype\": \"number\",\n        \"std\": 20,\n        \"min\": 30,\n        \"max\": 100,\n        \"num_unique_values\": 71,\n        \"samples\": [\n          51,\n          48,\n          55\n        ],\n        \"semantic_type\": \"\",\n        \"description\": \"\"\n      }\n    }\n  ]\n}"
            }
          },
          "metadata": {},
          "execution_count": 4
        }
      ],
      "source": [
        "df.head()"
      ]
    },
    {
      "cell_type": "markdown",
      "metadata": {
        "id": "17_jkfTjV9sY"
      },
      "source": [
        "#####Data preprocessing"
      ]
    },
    {
      "cell_type": "code",
      "execution_count": null,
      "metadata": {
        "colab": {
          "base_uri": "https://localhost:8080/"
        },
        "id": "4A4rsQ1LVpxZ",
        "outputId": "2e7613e8-035a-45c4-e278-3186a5ce38c8"
      },
      "outputs": [
        {
          "output_type": "stream",
          "name": "stdout",
          "text": [
            "<class 'pandas.core.frame.DataFrame'>\n",
            "RangeIndex: 10000 entries, 0 to 9999\n",
            "Data columns (total 10 columns):\n",
            " #   Column        Non-Null Count  Dtype \n",
            "---  ------        --------------  ----- \n",
            " 0   Student_ID    10000 non-null  int64 \n",
            " 1   Name          10000 non-null  object\n",
            " 2   Department    10000 non-null  object\n",
            " 3   Year          10000 non-null  int64 \n",
            " 4   Electronics   10000 non-null  int64 \n",
            " 5   Mathematics   10000 non-null  int64 \n",
            " 6   DSA           10000 non-null  int64 \n",
            " 7   Programming   10000 non-null  int64 \n",
            " 8   Database      10000 non-null  int64 \n",
            " 9   Data Science  10000 non-null  int64 \n",
            "dtypes: int64(8), object(2)\n",
            "memory usage: 781.4+ KB\n"
          ]
        }
      ],
      "source": [
        "df.info()"
      ]
    },
    {
      "cell_type": "code",
      "execution_count": null,
      "metadata": {
        "colab": {
          "base_uri": "https://localhost:8080/",
          "height": 300
        },
        "id": "h1oUschGWI8G",
        "outputId": "b571c19a-0123-4391-a7fd-b5d3039b6f65"
      },
      "outputs": [
        {
          "output_type": "execute_result",
          "data": {
            "text/plain": [
              "        Student_ID          Year   Electronics   Mathematics           DSA  \\\n",
              "count  10000.00000  10000.000000  10000.000000  10000.000000  10000.000000   \n",
              "mean    5000.50000      2.514400     65.209700     64.917000     65.212600   \n",
              "std     2886.89568      1.121034     20.689397     20.492918     20.622733   \n",
              "min        1.00000      1.000000     30.000000     30.000000     30.000000   \n",
              "25%     2500.75000      2.000000     47.000000     47.000000     47.000000   \n",
              "50%     5000.50000      3.000000     65.000000     65.000000     65.000000   \n",
              "75%     7500.25000      4.000000     83.000000     83.000000     83.000000   \n",
              "max    10000.00000      4.000000    100.000000    100.000000    100.000000   \n",
              "\n",
              "        Programming      Database  Data Science  \n",
              "count  10000.000000  10000.000000  10000.000000  \n",
              "mean      65.189500     65.046200     64.885700  \n",
              "std       20.582472     20.374842     20.562551  \n",
              "min       30.000000     30.000000     30.000000  \n",
              "25%       47.000000     48.000000     47.000000  \n",
              "50%       65.000000     65.000000     65.000000  \n",
              "75%       83.000000     82.000000     83.000000  \n",
              "max      100.000000    100.000000    100.000000  "
            ],
            "text/html": [
              "\n",
              "  <div id=\"df-21b4d7e2-4752-4fc8-bea9-43421a5de07e\" class=\"colab-df-container\">\n",
              "    <div>\n",
              "<style scoped>\n",
              "    .dataframe tbody tr th:only-of-type {\n",
              "        vertical-align: middle;\n",
              "    }\n",
              "\n",
              "    .dataframe tbody tr th {\n",
              "        vertical-align: top;\n",
              "    }\n",
              "\n",
              "    .dataframe thead th {\n",
              "        text-align: right;\n",
              "    }\n",
              "</style>\n",
              "<table border=\"1\" class=\"dataframe\">\n",
              "  <thead>\n",
              "    <tr style=\"text-align: right;\">\n",
              "      <th></th>\n",
              "      <th>Student_ID</th>\n",
              "      <th>Year</th>\n",
              "      <th>Electronics</th>\n",
              "      <th>Mathematics</th>\n",
              "      <th>DSA</th>\n",
              "      <th>Programming</th>\n",
              "      <th>Database</th>\n",
              "      <th>Data Science</th>\n",
              "    </tr>\n",
              "  </thead>\n",
              "  <tbody>\n",
              "    <tr>\n",
              "      <th>count</th>\n",
              "      <td>10000.00000</td>\n",
              "      <td>10000.000000</td>\n",
              "      <td>10000.000000</td>\n",
              "      <td>10000.000000</td>\n",
              "      <td>10000.000000</td>\n",
              "      <td>10000.000000</td>\n",
              "      <td>10000.000000</td>\n",
              "      <td>10000.000000</td>\n",
              "    </tr>\n",
              "    <tr>\n",
              "      <th>mean</th>\n",
              "      <td>5000.50000</td>\n",
              "      <td>2.514400</td>\n",
              "      <td>65.209700</td>\n",
              "      <td>64.917000</td>\n",
              "      <td>65.212600</td>\n",
              "      <td>65.189500</td>\n",
              "      <td>65.046200</td>\n",
              "      <td>64.885700</td>\n",
              "    </tr>\n",
              "    <tr>\n",
              "      <th>std</th>\n",
              "      <td>2886.89568</td>\n",
              "      <td>1.121034</td>\n",
              "      <td>20.689397</td>\n",
              "      <td>20.492918</td>\n",
              "      <td>20.622733</td>\n",
              "      <td>20.582472</td>\n",
              "      <td>20.374842</td>\n",
              "      <td>20.562551</td>\n",
              "    </tr>\n",
              "    <tr>\n",
              "      <th>min</th>\n",
              "      <td>1.00000</td>\n",
              "      <td>1.000000</td>\n",
              "      <td>30.000000</td>\n",
              "      <td>30.000000</td>\n",
              "      <td>30.000000</td>\n",
              "      <td>30.000000</td>\n",
              "      <td>30.000000</td>\n",
              "      <td>30.000000</td>\n",
              "    </tr>\n",
              "    <tr>\n",
              "      <th>25%</th>\n",
              "      <td>2500.75000</td>\n",
              "      <td>2.000000</td>\n",
              "      <td>47.000000</td>\n",
              "      <td>47.000000</td>\n",
              "      <td>47.000000</td>\n",
              "      <td>47.000000</td>\n",
              "      <td>48.000000</td>\n",
              "      <td>47.000000</td>\n",
              "    </tr>\n",
              "    <tr>\n",
              "      <th>50%</th>\n",
              "      <td>5000.50000</td>\n",
              "      <td>3.000000</td>\n",
              "      <td>65.000000</td>\n",
              "      <td>65.000000</td>\n",
              "      <td>65.000000</td>\n",
              "      <td>65.000000</td>\n",
              "      <td>65.000000</td>\n",
              "      <td>65.000000</td>\n",
              "    </tr>\n",
              "    <tr>\n",
              "      <th>75%</th>\n",
              "      <td>7500.25000</td>\n",
              "      <td>4.000000</td>\n",
              "      <td>83.000000</td>\n",
              "      <td>83.000000</td>\n",
              "      <td>83.000000</td>\n",
              "      <td>83.000000</td>\n",
              "      <td>82.000000</td>\n",
              "      <td>83.000000</td>\n",
              "    </tr>\n",
              "    <tr>\n",
              "      <th>max</th>\n",
              "      <td>10000.00000</td>\n",
              "      <td>4.000000</td>\n",
              "      <td>100.000000</td>\n",
              "      <td>100.000000</td>\n",
              "      <td>100.000000</td>\n",
              "      <td>100.000000</td>\n",
              "      <td>100.000000</td>\n",
              "      <td>100.000000</td>\n",
              "    </tr>\n",
              "  </tbody>\n",
              "</table>\n",
              "</div>\n",
              "    <div class=\"colab-df-buttons\">\n",
              "\n",
              "  <div class=\"colab-df-container\">\n",
              "    <button class=\"colab-df-convert\" onclick=\"convertToInteractive('df-21b4d7e2-4752-4fc8-bea9-43421a5de07e')\"\n",
              "            title=\"Convert this dataframe to an interactive table.\"\n",
              "            style=\"display:none;\">\n",
              "\n",
              "  <svg xmlns=\"http://www.w3.org/2000/svg\" height=\"24px\" viewBox=\"0 -960 960 960\">\n",
              "    <path d=\"M120-120v-720h720v720H120Zm60-500h600v-160H180v160Zm220 220h160v-160H400v160Zm0 220h160v-160H400v160ZM180-400h160v-160H180v160Zm440 0h160v-160H620v160ZM180-180h160v-160H180v160Zm440 0h160v-160H620v160Z\"/>\n",
              "  </svg>\n",
              "    </button>\n",
              "\n",
              "  <style>\n",
              "    .colab-df-container {\n",
              "      display:flex;\n",
              "      gap: 12px;\n",
              "    }\n",
              "\n",
              "    .colab-df-convert {\n",
              "      background-color: #E8F0FE;\n",
              "      border: none;\n",
              "      border-radius: 50%;\n",
              "      cursor: pointer;\n",
              "      display: none;\n",
              "      fill: #1967D2;\n",
              "      height: 32px;\n",
              "      padding: 0 0 0 0;\n",
              "      width: 32px;\n",
              "    }\n",
              "\n",
              "    .colab-df-convert:hover {\n",
              "      background-color: #E2EBFA;\n",
              "      box-shadow: 0px 1px 2px rgba(60, 64, 67, 0.3), 0px 1px 3px 1px rgba(60, 64, 67, 0.15);\n",
              "      fill: #174EA6;\n",
              "    }\n",
              "\n",
              "    .colab-df-buttons div {\n",
              "      margin-bottom: 4px;\n",
              "    }\n",
              "\n",
              "    [theme=dark] .colab-df-convert {\n",
              "      background-color: #3B4455;\n",
              "      fill: #D2E3FC;\n",
              "    }\n",
              "\n",
              "    [theme=dark] .colab-df-convert:hover {\n",
              "      background-color: #434B5C;\n",
              "      box-shadow: 0px 1px 3px 1px rgba(0, 0, 0, 0.15);\n",
              "      filter: drop-shadow(0px 1px 2px rgba(0, 0, 0, 0.3));\n",
              "      fill: #FFFFFF;\n",
              "    }\n",
              "  </style>\n",
              "\n",
              "    <script>\n",
              "      const buttonEl =\n",
              "        document.querySelector('#df-21b4d7e2-4752-4fc8-bea9-43421a5de07e button.colab-df-convert');\n",
              "      buttonEl.style.display =\n",
              "        google.colab.kernel.accessAllowed ? 'block' : 'none';\n",
              "\n",
              "      async function convertToInteractive(key) {\n",
              "        const element = document.querySelector('#df-21b4d7e2-4752-4fc8-bea9-43421a5de07e');\n",
              "        const dataTable =\n",
              "          await google.colab.kernel.invokeFunction('convertToInteractive',\n",
              "                                                    [key], {});\n",
              "        if (!dataTable) return;\n",
              "\n",
              "        const docLinkHtml = 'Like what you see? Visit the ' +\n",
              "          '<a target=\"_blank\" href=https://colab.research.google.com/notebooks/data_table.ipynb>data table notebook</a>'\n",
              "          + ' to learn more about interactive tables.';\n",
              "        element.innerHTML = '';\n",
              "        dataTable['output_type'] = 'display_data';\n",
              "        await google.colab.output.renderOutput(dataTable, element);\n",
              "        const docLink = document.createElement('div');\n",
              "        docLink.innerHTML = docLinkHtml;\n",
              "        element.appendChild(docLink);\n",
              "      }\n",
              "    </script>\n",
              "  </div>\n",
              "\n",
              "\n",
              "<div id=\"df-9983997d-0287-4e50-bbd3-0b13745c9448\">\n",
              "  <button class=\"colab-df-quickchart\" onclick=\"quickchart('df-9983997d-0287-4e50-bbd3-0b13745c9448')\"\n",
              "            title=\"Suggest charts\"\n",
              "            style=\"display:none;\">\n",
              "\n",
              "<svg xmlns=\"http://www.w3.org/2000/svg\" height=\"24px\"viewBox=\"0 0 24 24\"\n",
              "     width=\"24px\">\n",
              "    <g>\n",
              "        <path d=\"M19 3H5c-1.1 0-2 .9-2 2v14c0 1.1.9 2 2 2h14c1.1 0 2-.9 2-2V5c0-1.1-.9-2-2-2zM9 17H7v-7h2v7zm4 0h-2V7h2v10zm4 0h-2v-4h2v4z\"/>\n",
              "    </g>\n",
              "</svg>\n",
              "  </button>\n",
              "\n",
              "<style>\n",
              "  .colab-df-quickchart {\n",
              "      --bg-color: #E8F0FE;\n",
              "      --fill-color: #1967D2;\n",
              "      --hover-bg-color: #E2EBFA;\n",
              "      --hover-fill-color: #174EA6;\n",
              "      --disabled-fill-color: #AAA;\n",
              "      --disabled-bg-color: #DDD;\n",
              "  }\n",
              "\n",
              "  [theme=dark] .colab-df-quickchart {\n",
              "      --bg-color: #3B4455;\n",
              "      --fill-color: #D2E3FC;\n",
              "      --hover-bg-color: #434B5C;\n",
              "      --hover-fill-color: #FFFFFF;\n",
              "      --disabled-bg-color: #3B4455;\n",
              "      --disabled-fill-color: #666;\n",
              "  }\n",
              "\n",
              "  .colab-df-quickchart {\n",
              "    background-color: var(--bg-color);\n",
              "    border: none;\n",
              "    border-radius: 50%;\n",
              "    cursor: pointer;\n",
              "    display: none;\n",
              "    fill: var(--fill-color);\n",
              "    height: 32px;\n",
              "    padding: 0;\n",
              "    width: 32px;\n",
              "  }\n",
              "\n",
              "  .colab-df-quickchart:hover {\n",
              "    background-color: var(--hover-bg-color);\n",
              "    box-shadow: 0 1px 2px rgba(60, 64, 67, 0.3), 0 1px 3px 1px rgba(60, 64, 67, 0.15);\n",
              "    fill: var(--button-hover-fill-color);\n",
              "  }\n",
              "\n",
              "  .colab-df-quickchart-complete:disabled,\n",
              "  .colab-df-quickchart-complete:disabled:hover {\n",
              "    background-color: var(--disabled-bg-color);\n",
              "    fill: var(--disabled-fill-color);\n",
              "    box-shadow: none;\n",
              "  }\n",
              "\n",
              "  .colab-df-spinner {\n",
              "    border: 2px solid var(--fill-color);\n",
              "    border-color: transparent;\n",
              "    border-bottom-color: var(--fill-color);\n",
              "    animation:\n",
              "      spin 1s steps(1) infinite;\n",
              "  }\n",
              "\n",
              "  @keyframes spin {\n",
              "    0% {\n",
              "      border-color: transparent;\n",
              "      border-bottom-color: var(--fill-color);\n",
              "      border-left-color: var(--fill-color);\n",
              "    }\n",
              "    20% {\n",
              "      border-color: transparent;\n",
              "      border-left-color: var(--fill-color);\n",
              "      border-top-color: var(--fill-color);\n",
              "    }\n",
              "    30% {\n",
              "      border-color: transparent;\n",
              "      border-left-color: var(--fill-color);\n",
              "      border-top-color: var(--fill-color);\n",
              "      border-right-color: var(--fill-color);\n",
              "    }\n",
              "    40% {\n",
              "      border-color: transparent;\n",
              "      border-right-color: var(--fill-color);\n",
              "      border-top-color: var(--fill-color);\n",
              "    }\n",
              "    60% {\n",
              "      border-color: transparent;\n",
              "      border-right-color: var(--fill-color);\n",
              "    }\n",
              "    80% {\n",
              "      border-color: transparent;\n",
              "      border-right-color: var(--fill-color);\n",
              "      border-bottom-color: var(--fill-color);\n",
              "    }\n",
              "    90% {\n",
              "      border-color: transparent;\n",
              "      border-bottom-color: var(--fill-color);\n",
              "    }\n",
              "  }\n",
              "</style>\n",
              "\n",
              "  <script>\n",
              "    async function quickchart(key) {\n",
              "      const quickchartButtonEl =\n",
              "        document.querySelector('#' + key + ' button');\n",
              "      quickchartButtonEl.disabled = true;  // To prevent multiple clicks.\n",
              "      quickchartButtonEl.classList.add('colab-df-spinner');\n",
              "      try {\n",
              "        const charts = await google.colab.kernel.invokeFunction(\n",
              "            'suggestCharts', [key], {});\n",
              "      } catch (error) {\n",
              "        console.error('Error during call to suggestCharts:', error);\n",
              "      }\n",
              "      quickchartButtonEl.classList.remove('colab-df-spinner');\n",
              "      quickchartButtonEl.classList.add('colab-df-quickchart-complete');\n",
              "    }\n",
              "    (() => {\n",
              "      let quickchartButtonEl =\n",
              "        document.querySelector('#df-9983997d-0287-4e50-bbd3-0b13745c9448 button');\n",
              "      quickchartButtonEl.style.display =\n",
              "        google.colab.kernel.accessAllowed ? 'block' : 'none';\n",
              "    })();\n",
              "  </script>\n",
              "</div>\n",
              "\n",
              "    </div>\n",
              "  </div>\n"
            ],
            "application/vnd.google.colaboratory.intrinsic+json": {
              "type": "dataframe",
              "summary": "{\n  \"name\": \"df\",\n  \"rows\": 8,\n  \"fields\": [\n    {\n      \"column\": \"Student_ID\",\n      \"properties\": {\n        \"dtype\": \"number\",\n        \"std\": 3603.743586536124,\n        \"min\": 1.0,\n        \"max\": 10000.0,\n        \"num_unique_values\": 6,\n        \"samples\": [\n          10000.0,\n          5000.5,\n          7500.25\n        ],\n        \"semantic_type\": \"\",\n        \"description\": \"\"\n      }\n    },\n    {\n      \"column\": \"Year\",\n      \"properties\": {\n        \"dtype\": \"number\",\n        \"std\": 3534.6433668688514,\n        \"min\": 1.0,\n        \"max\": 10000.0,\n        \"num_unique_values\": 7,\n        \"samples\": [\n          10000.0,\n          2.5144,\n          3.0\n        ],\n        \"semantic_type\": \"\",\n        \"description\": \"\"\n      }\n    },\n    {\n      \"column\": \"Electronics\",\n      \"properties\": {\n        \"dtype\": \"number\",\n        \"std\": 3514.8775808025275,\n        \"min\": 20.689396584315784,\n        \"max\": 10000.0,\n        \"num_unique_values\": 8,\n        \"samples\": [\n          65.2097,\n          65.0,\n          10000.0\n        ],\n        \"semantic_type\": \"\",\n        \"description\": \"\"\n      }\n    },\n    {\n      \"column\": \"Mathematics\",\n      \"properties\": {\n        \"dtype\": \"number\",\n        \"std\": 3514.9025152667978,\n        \"min\": 20.4929184590848,\n        \"max\": 10000.0,\n        \"num_unique_values\": 8,\n        \"samples\": [\n          64.917,\n          65.0,\n          10000.0\n        ],\n        \"semantic_type\": \"\",\n        \"description\": \"\"\n      }\n    },\n    {\n      \"column\": \"DSA\",\n      \"properties\": {\n        \"dtype\": \"number\",\n        \"std\": 3514.8809050756017,\n        \"min\": 20.622733353100813,\n        \"max\": 10000.0,\n        \"num_unique_values\": 8,\n        \"samples\": [\n          65.2126,\n          65.0,\n          10000.0\n        ],\n        \"semantic_type\": \"\",\n        \"description\": \"\"\n      }\n    },\n    {\n      \"column\": \"Programming\",\n      \"properties\": {\n        \"dtype\": \"number\",\n        \"std\": 3514.8841614207545,\n        \"min\": 20.58247199841062,\n        \"max\": 10000.0,\n        \"num_unique_values\": 8,\n        \"samples\": [\n          65.1895,\n          65.0,\n          10000.0\n        ],\n        \"semantic_type\": \"\",\n        \"description\": \"\"\n      }\n    },\n    {\n      \"column\": \"Database\",\n      \"properties\": {\n        \"dtype\": \"number\",\n        \"std\": 3514.900747609706,\n        \"min\": 20.37484181479449,\n        \"max\": 10000.0,\n        \"num_unique_values\": 8,\n        \"samples\": [\n          65.0462,\n          65.0,\n          10000.0\n        ],\n        \"semantic_type\": \"\",\n        \"description\": \"\"\n      }\n    },\n    {\n      \"column\": \"Data Science\",\n      \"properties\": {\n        \"dtype\": \"number\",\n        \"std\": 3514.90046340208,\n        \"min\": 20.562551333960002,\n        \"max\": 10000.0,\n        \"num_unique_values\": 8,\n        \"samples\": [\n          64.8857,\n          65.0,\n          10000.0\n        ],\n        \"semantic_type\": \"\",\n        \"description\": \"\"\n      }\n    }\n  ]\n}"
            }
          },
          "metadata": {},
          "execution_count": 6
        }
      ],
      "source": [
        "df.describe()"
      ]
    },
    {
      "cell_type": "code",
      "execution_count": null,
      "metadata": {
        "colab": {
          "base_uri": "https://localhost:8080/",
          "height": 397
        },
        "id": "--4lZRi4WWZ9",
        "outputId": "f7eec407-866d-4312-d744-288455926320"
      },
      "outputs": [
        {
          "output_type": "execute_result",
          "data": {
            "text/plain": [
              "Student_ID      0\n",
              "Name            0\n",
              "Department      0\n",
              "Year            0\n",
              "Electronics     0\n",
              "Mathematics     0\n",
              "DSA             0\n",
              "Programming     0\n",
              "Database        0\n",
              "Data Science    0\n",
              "dtype: int64"
            ],
            "text/html": [
              "<div>\n",
              "<style scoped>\n",
              "    .dataframe tbody tr th:only-of-type {\n",
              "        vertical-align: middle;\n",
              "    }\n",
              "\n",
              "    .dataframe tbody tr th {\n",
              "        vertical-align: top;\n",
              "    }\n",
              "\n",
              "    .dataframe thead th {\n",
              "        text-align: right;\n",
              "    }\n",
              "</style>\n",
              "<table border=\"1\" class=\"dataframe\">\n",
              "  <thead>\n",
              "    <tr style=\"text-align: right;\">\n",
              "      <th></th>\n",
              "      <th>0</th>\n",
              "    </tr>\n",
              "  </thead>\n",
              "  <tbody>\n",
              "    <tr>\n",
              "      <th>Student_ID</th>\n",
              "      <td>0</td>\n",
              "    </tr>\n",
              "    <tr>\n",
              "      <th>Name</th>\n",
              "      <td>0</td>\n",
              "    </tr>\n",
              "    <tr>\n",
              "      <th>Department</th>\n",
              "      <td>0</td>\n",
              "    </tr>\n",
              "    <tr>\n",
              "      <th>Year</th>\n",
              "      <td>0</td>\n",
              "    </tr>\n",
              "    <tr>\n",
              "      <th>Electronics</th>\n",
              "      <td>0</td>\n",
              "    </tr>\n",
              "    <tr>\n",
              "      <th>Mathematics</th>\n",
              "      <td>0</td>\n",
              "    </tr>\n",
              "    <tr>\n",
              "      <th>DSA</th>\n",
              "      <td>0</td>\n",
              "    </tr>\n",
              "    <tr>\n",
              "      <th>Programming</th>\n",
              "      <td>0</td>\n",
              "    </tr>\n",
              "    <tr>\n",
              "      <th>Database</th>\n",
              "      <td>0</td>\n",
              "    </tr>\n",
              "    <tr>\n",
              "      <th>Data Science</th>\n",
              "      <td>0</td>\n",
              "    </tr>\n",
              "  </tbody>\n",
              "</table>\n",
              "</div><br><label><b>dtype:</b> int64</label>"
            ]
          },
          "metadata": {},
          "execution_count": 7
        }
      ],
      "source": [
        "df.isna().sum()"
      ]
    },
    {
      "cell_type": "code",
      "execution_count": null,
      "metadata": {
        "colab": {
          "base_uri": "https://localhost:8080/",
          "height": 397
        },
        "id": "LU_3WQvDWaVm",
        "outputId": "aacdd0ea-9593-4358-c0ab-00c7609663a7"
      },
      "outputs": [
        {
          "output_type": "execute_result",
          "data": {
            "text/plain": [
              "Student_ID      10000\n",
              "Name             9382\n",
              "Department          4\n",
              "Year                4\n",
              "Electronics        71\n",
              "Mathematics        71\n",
              "DSA                71\n",
              "Programming        71\n",
              "Database           71\n",
              "Data Science       71\n",
              "dtype: int64"
            ],
            "text/html": [
              "<div>\n",
              "<style scoped>\n",
              "    .dataframe tbody tr th:only-of-type {\n",
              "        vertical-align: middle;\n",
              "    }\n",
              "\n",
              "    .dataframe tbody tr th {\n",
              "        vertical-align: top;\n",
              "    }\n",
              "\n",
              "    .dataframe thead th {\n",
              "        text-align: right;\n",
              "    }\n",
              "</style>\n",
              "<table border=\"1\" class=\"dataframe\">\n",
              "  <thead>\n",
              "    <tr style=\"text-align: right;\">\n",
              "      <th></th>\n",
              "      <th>0</th>\n",
              "    </tr>\n",
              "  </thead>\n",
              "  <tbody>\n",
              "    <tr>\n",
              "      <th>Student_ID</th>\n",
              "      <td>10000</td>\n",
              "    </tr>\n",
              "    <tr>\n",
              "      <th>Name</th>\n",
              "      <td>9382</td>\n",
              "    </tr>\n",
              "    <tr>\n",
              "      <th>Department</th>\n",
              "      <td>4</td>\n",
              "    </tr>\n",
              "    <tr>\n",
              "      <th>Year</th>\n",
              "      <td>4</td>\n",
              "    </tr>\n",
              "    <tr>\n",
              "      <th>Electronics</th>\n",
              "      <td>71</td>\n",
              "    </tr>\n",
              "    <tr>\n",
              "      <th>Mathematics</th>\n",
              "      <td>71</td>\n",
              "    </tr>\n",
              "    <tr>\n",
              "      <th>DSA</th>\n",
              "      <td>71</td>\n",
              "    </tr>\n",
              "    <tr>\n",
              "      <th>Programming</th>\n",
              "      <td>71</td>\n",
              "    </tr>\n",
              "    <tr>\n",
              "      <th>Database</th>\n",
              "      <td>71</td>\n",
              "    </tr>\n",
              "    <tr>\n",
              "      <th>Data Science</th>\n",
              "      <td>71</td>\n",
              "    </tr>\n",
              "  </tbody>\n",
              "</table>\n",
              "</div><br><label><b>dtype:</b> int64</label>"
            ]
          },
          "metadata": {},
          "execution_count": 8
        }
      ],
      "source": [
        "df.nunique()"
      ]
    },
    {
      "cell_type": "markdown",
      "metadata": {
        "id": "flRIhjE9YsyL"
      },
      "source": [
        "#####Visualizing the pre-processed data by importing seaborn library and using pariplot since the dataset is very huge the output is like this"
      ]
    },
    {
      "cell_type": "code",
      "execution_count": null,
      "metadata": {
        "id": "c60NG6kHWd9M"
      },
      "outputs": [],
      "source": [
        "import seaborn as sns"
      ]
    },
    {
      "cell_type": "markdown",
      "metadata": {
        "id": "yWHqZd6QZaFs"
      },
      "source": [
        "#####Using the heatmap for better visualization for which i imported seaborn library"
      ]
    },
    {
      "cell_type": "code",
      "execution_count": null,
      "metadata": {
        "colab": {
          "base_uri": "https://localhost:8080/",
          "height": 545
        },
        "id": "hLgn23MeZKQM",
        "outputId": "aec20a7b-26bd-4463-e710-d9c1ba3fda14"
      },
      "outputs": [
        {
          "output_type": "display_data",
          "data": {
            "text/plain": [
              "<Figure size 1000x600 with 2 Axes>"
            ],
            "image/png": "[encoded data removed]"
          },
          "metadata": {}
        }
      ],
      "source": [
        "import matplotlib.pyplot as plt\n",
        "plt.figure(figsize=(10, 6))\n",
        "sns.heatmap(df[[\"Electronics\", \"Mathematics\", \"DSA\", \"Programming\", \"Database\", \"Data Science\"]].corr(), annot=True, cmap=\"coolwarm\", fmt=\".2f\")\n",
        "plt.title(\"Subject Marks Correlation Heatmap\")\n",
        "plt.show()"
      ]
    },
    {
      "cell_type": "code",
      "execution_count": null,
      "metadata": {
        "colab": {
          "base_uri": "https://localhost:8080/"
        },
        "id": "74TdRw4cZ2_3",
        "outputId": "1583ca6e-6b58-4268-8f32-b0bb722976b7"
      },
      "outputs": [
        {
          "output_type": "execute_result",
          "data": {
            "text/plain": [
              "[('Electronics', 89),\n",
              " ('Mathematics', 61),\n",
              " ('DSA', 88),\n",
              " ('Programming', 47),\n",
              " ('Database', 45),\n",
              " ('Data Science', 48),\n",
              " ('Electronics', 82),\n",
              " ('Mathematics', 90),\n",
              " ('DSA', 58),\n",
              " ('Programming', 31)]"
            ]
          },
          "metadata": {},
          "execution_count": 12
        }
      ],
      "source": [
        "from multiprocessing import Pool\n",
        "\n",
        "# Define subjects\n",
        "subjects = [\"Electronics\", \"Mathematics\", \"DSA\", \"Programming\", \"Database\", \"Data Science\"]\n",
        "\n",
        "def mapper(row):\n",
        "    \"\"\"\n",
        "    Simulates the Mapper function by extracting subject marks\n",
        "    \"\"\"\n",
        "    student_id = row[\"Student_ID\"]\n",
        "    output = []\n",
        "\n",
        "    for subject in subjects:\n",
        "        output.append((subject, row[subject]))  # Key-Value pairs (subject, marks)\n",
        "\n",
        "    return output\n",
        "\n",
        "# Apply the mapper function to all rows\n",
        "with Pool() as pool:\n",
        "    mapped_data = pool.map(mapper, [row for _, row in df.iterrows()])\n",
        "\n",
        "# Flatten the mapped output\n",
        "mapped_data = [item for sublist in mapped_data for item in sublist]\n",
        "\n",
        "# Display sample output from the mapper\n",
        "mapped_data[:10]  # First 10 key-value pairs"
      ]
    },
    {
      "cell_type": "markdown",
      "metadata": {
        "id": "xf7-nMpiSeJQ"
      },
      "source": [
        "#####Now its time for data analysis, first starting with the pass or fail analysis"
      ]
    },
    {
      "cell_type": "code",
      "execution_count": null,
      "metadata": {
        "colab": {
          "base_uri": "https://localhost:8080/"
        },
        "id": "BD4gOOwaQ-cQ",
        "outputId": "30f78f30-965a-42d5-a05b-633566befeb3"
      },
      "outputs": [
        {
          "output_type": "stream",
          "name": "stdout",
          "text": [
            "              Pass Count  Fail Count  Pass Percentage\n",
            "Electronics         8591        1409            85.91\n",
            "Mathematics         8549        1451            85.49\n",
            "DSA                 8621        1379            86.21\n",
            "Programming         8612        1388            86.12\n",
            "Database            8597        1403            85.97\n",
            "Data Science        8550        1450            85.50\n"
          ]
        }
      ],
      "source": [
        "# Define passing marks (e.g., 40)\n",
        "import pandas as pd\n",
        "passing_marks = 40\n",
        "\n",
        "\n",
        "# Calculate pass and fail counts per subject\n",
        "pass_fail_stats = pd.DataFrame({\n",
        "    \"Pass Count\": (df[subjects] >= passing_marks).sum(),\n",
        "    \"Fail Count\": (df[subjects] < passing_marks).sum()\n",
        "})\n",
        "\n",
        "# Calculate Pass Percentage\n",
        "pass_fail_stats[\"Pass Percentage\"] = (pass_fail_stats[\"Pass Count\"] / len(df)) * 100\n",
        "\n",
        "print(pass_fail_stats)\n"
      ]
    },
    {
      "cell_type": "markdown",
      "metadata": {
        "id": "I_F7DDWVTTCn"
      },
      "source": [
        "#####Calculating the average marks of the students"
      ]
    },
    {
      "cell_type": "code",
      "source": [
        "# List of subjects\n",
        "subjects = [\"Electronics\", \"Mathematics\", \"DSA\", \"Programming\", \"Database\", \"Data Science\"]\n",
        "\n",
        "# Compute the average marks per student\n",
        "df[\"Average Marks\"] = df[subjects].mean(axis=1)\n",
        "\n",
        "# Display the first few rows to verify\n",
        "print(df.head())\n"
      ],
      "metadata": {
        "colab": {
          "base_uri": "https://localhost:8080/"
        },
        "id": "rKmq3Q2FaL6F",
        "outputId": "7c330d68-3d43-4bc7-a2b2-2878d425c615"
      },
      "execution_count": null,
      "outputs": [
        {
          "output_type": "stream",
          "name": "stdout",
          "text": [
            "   Student_ID            Name Department  Year  Electronics  Mathematics  DSA  \\\n",
            "0           1   Matthew Moore        ECE     4           89           61   88   \n",
            "1           2     Amy Johnson        EEE     3           82           90   58   \n",
            "2           3   Maria Delgado        ECE     3           87           56   85   \n",
            "3           4  Rebecca Campos         IT     3           77           41   72   \n",
            "4           5     John Barber        CSE     4           64           35   56   \n",
            "\n",
            "   Programming  Database  Data Science  Average Marks  \n",
            "0           47        45            48      63.000000  \n",
            "1           31        82            41      64.000000  \n",
            "2           48        44            35      59.166667  \n",
            "3           43        73            91      66.166667  \n",
            "4           40        83            85      60.500000  \n"
          ]
        }
      ]
    },
    {
      "cell_type": "markdown",
      "source": [
        "#####After calculating avg marks of the students now its time to perform regression analysis on it, using linear regression to see how each subjects marks contribute to his overall performance"
      ],
      "metadata": {
        "id": "hhpRsG2Javwz"
      }
    },
    {
      "cell_type": "code",
      "source": [
        "from sklearn.linear_model import LinearRegression\n",
        "# Define features (subject marks) and target (overall average)\n",
        "X = df[[\"Electronics\", \"Mathematics\", \"DSA\", \"Programming\", \"Database\", \"Data Science\"]]\n",
        "y = df[\"Average Marks\"]\n",
        "\n",
        "# Fit the linear regression model\n",
        "model = LinearRegression()\n",
        "model.fit(X, y)\n",
        "\n",
        "# Get regression coefficients\n",
        "coefficients = pd.DataFrame({\n",
        "    \"Subject\": X.columns,\n",
        "    \"Coefficient\": model.coef_\n",
        "})\n",
        "print(coefficients)"
      ],
      "metadata": {
        "colab": {
          "base_uri": "https://localhost:8080/"
        },
        "id": "-Oqyv6ZPauI-",
        "outputId": "c567ab0b-a199-48d3-e8f7-86ced8b16c0e"
      },
      "execution_count": null,
      "outputs": [
        {
          "output_type": "stream",
          "name": "stdout",
          "text": [
            "        Subject  Coefficient\n",
            "0   Electronics     0.166667\n",
            "1   Mathematics     0.166667\n",
            "2           DSA     0.166667\n",
            "3   Programming     0.166667\n",
            "4      Database     0.166667\n",
            "5  Data Science     0.166667\n"
          ]
        }
      ]
    },
    {
      "cell_type": "markdown",
      "source": [
        "#####Based on the above linear regression's coefficients we can say that the model is treating all the subjects in a equal manner and no subject has more influence of any other subject in the final score calculation"
      ],
      "metadata": {
        "id": "NhlXDDuab3CO"
      }
    },
    {
      "cell_type": "markdown",
      "source": [
        "#####Performing the grade distribution analysis i.e calculating the grades of the students"
      ],
      "metadata": {
        "id": "5WxRP3jSaRLI"
      }
    },
    {
      "cell_type": "code",
      "source": [
        "# Define grading function\n",
        "def assign_grade(avg):\n",
        "    if avg >= 90:\n",
        "        return \"O\"\n",
        "    elif avg >= 85:\n",
        "        return \"A+\"\n",
        "    elif avg >= 75:\n",
        "        return \"A\"\n",
        "    elif avg >= 65:\n",
        "        return \"B\"\n",
        "    elif avg >= 55:\n",
        "        return \"C\"\n",
        "    elif avg >= 50:\n",
        "        return \"D\"\n",
        "    else:\n",
        "        return \"Fail\"\n",
        "\n",
        "# Apply grading function\n",
        "df[\"Grade\"] = df[\"Average Marks\"].apply(assign_grade)\n",
        "\n",
        "# Count students per grade\n",
        "grade_distribution = df[\"Grade\"].value_counts()\n",
        "\n",
        "print(grade_distribution)\n",
        "\n",
        "# Visualizing Grade Distributions\n",
        "\n",
        "plt.figure(figsize=(6, 4))\n",
        "sns.barplot(x=grade_distribution.index, y=grade_distribution.values, palette=\"coolwarm\")\n",
        "plt.xlabel(\"Grade\")\n",
        "plt.ylabel(\"Number of Students\")\n",
        "plt.title(\"Grade Distribution\")\n",
        "plt.show()"
      ],
      "metadata": {
        "colab": {
          "base_uri": "https://localhost:8080/",
          "height": 673
        },
        "id": "wQZHYn3qaXpm",
        "outputId": "0f9d9138-f08e-4a5a-a05a-8ac6f7ddd061"
      },
      "execution_count": null,
      "outputs": [
        {
          "output_type": "stream",
          "name": "stdout",
          "text": [
            "Grade\n",
            "C       3811\n",
            "B       3804\n",
            "A       1149\n",
            "D        848\n",
            "Fail     306\n",
            "A+        74\n",
            "O          8\n",
            "Name: count, dtype: int64\n"
          ]
        },
        {
          "output_type": "stream",
          "name": "stderr",
          "text": [
            "<ipython-input-16-edcd428b4eac>:29: FutureWarning: \n",
            "\n",
            "Passing `palette` without assigning `hue` is deprecated and will be removed in v0.14.0. Assign the `x` variable to `hue` and set `legend=False` for the same effect.\n",
            "\n",
            "  sns.barplot(x=grade_distribution.index, y=grade_distribution.values, palette=\"coolwarm\")\n"
          ]
        },
        {
          "output_type": "display_data",
          "data": {
            "text/plain": [
              "<Figure size 600x400 with 1 Axes>"
            ],
            "image/png": "[encoded data removed]"
          },
          "metadata": {}
        }
      ]
    },
    {
      "cell_type": "markdown",
      "source": [
        "#####The above graph gives a detailed analysis on what are the grades that the students acheived in the examinations and the management can use to get an idea of how to improve the students and can asses the students from which cateogary they are in."
      ],
      "metadata": {
        "id": "RynxD70ocjMo"
      }
    },
    {
      "cell_type": "code",
      "source": [
        "# Top 10 Students\n",
        "top_students = df.nlargest(10, \"Average Marks\")\n",
        "# Bottom 10 Students\n",
        "bottom_students = df.nsmallest(10, \"Average Marks\")\n",
        "\n",
        "print(\"Top 10 Students:\\n\", top_students[[\"Student_ID\", \"Average Marks\"]])\n",
        "print(\"\\nBottom 10 Students:\\n\", bottom_students[[\"Student_ID\", \"Average Marks\"]])"
      ],
      "metadata": {
        "colab": {
          "base_uri": "https://localhost:8080/"
        },
        "id": "Gh7iySv-ckf9",
        "outputId": "e7903e7e-13cd-47e5-c926-258226892e2b"
      },
      "execution_count": null,
      "outputs": [
        {
          "output_type": "stream",
          "name": "stdout",
          "text": [
            "Top 10 Students:\n",
            "       Student_ID  Average Marks\n",
            "729          730      95.333333\n",
            "9674        9675      92.500000\n",
            "2809        2810      92.000000\n",
            "2577        2578      91.333333\n",
            "2946        2947      91.333333\n",
            "2058        2059      90.666667\n",
            "3086        3087      90.166667\n",
            "9879        9880      90.000000\n",
            "3067        3068      89.833333\n",
            "675          676      89.666667\n",
            "\n",
            "Bottom 10 Students:\n",
            "       Student_ID  Average Marks\n",
            "1631        1632      39.500000\n",
            "4724        4725      39.666667\n",
            "498          499      40.166667\n",
            "5572        5573      40.833333\n",
            "972          973      41.000000\n",
            "2978        2979      41.000000\n",
            "8745        8746      41.000000\n",
            "1175        1176      41.166667\n",
            "3098        3099      41.166667\n",
            "347          348      41.333333\n"
          ]
        }
      ]
    },
    {
      "cell_type": "markdown",
      "source": [
        "#####Here in the above we can observe the top and bottom 10 students and using this we can concnetrate on how these people perform and how to even more upgrade them."
      ],
      "metadata": {
        "id": "VnCDaQidj2eC"
      }
    },
    {
      "cell_type": "code",
      "source": [
        "# Boxplot for subject-wise distribution\n",
        "plt.figure(figsize=(10, 6))\n",
        "sns.boxplot(data=df[subjects])\n",
        "plt.xlabel(\"Subjects\")\n",
        "plt.ylabel(\"Marks Distribution\")\n",
        "plt.title(\"Subject-Wise Performance Analysis\")\n",
        "plt.show()"
      ],
      "metadata": {
        "colab": {
          "base_uri": "https://localhost:8080/",
          "height": 564
        },
        "id": "RA2O0PC4kfss",
        "outputId": "362b67a9-87f1-49b8-ed90-b125c76ba2d0"
      },
      "execution_count": null,
      "outputs": [
        {
          "output_type": "display_data",
          "data": {
            "text/plain": [
              "<Figure size 1000x600 with 1 Axes>"
            ],
            "image/png": "[encoded data removed]"
          },
          "metadata": {}
        }
      ]
    },
    {
      "cell_type": "markdown",
      "source": [
        "#####The above plotting shows the marks distribution of various students in different subject\n",
        "######Here it is showing the analysis in the same way cause i have used faker library but for real-time data it will be quite different."
      ],
      "metadata": {
        "id": "nH29Tv7Amqq4"
      }
    },
    {
      "cell_type": "code",
      "source": [
        "# Count the number of students in each department for each year\n",
        "dept_year_counts = df.groupby([\"Department\", \"Year\"]).size().reset_index(name=\"Student_Count\")\n",
        "\n",
        "# Display the student count per department per year\n",
        "print(dept_year_counts)\n",
        "\n",
        "# Visualizing the student distribution\n",
        "plt.figure(figsize=(10, 6))\n",
        "sns.barplot(x=\"Department\", y=\"Student_Count\", hue=\"Year\", data=dept_year_counts, palette=\"coolwarm\")\n",
        "plt.xlabel(\"Department\")\n",
        "plt.ylabel(\"Number of Students\")\n",
        "plt.title(\"Student Count in Each Department for Each Year\")\n",
        "plt.legend(title=\"Year of Study\")\n",
        "plt.show()"
      ],
      "metadata": {
        "id": "pDE3b1GHm2dF",
        "colab": {
          "base_uri": "https://localhost:8080/",
          "height": 859
        },
        "outputId": "db7e0f07-8be8-406b-f042-16106f199741"
      },
      "execution_count": null,
      "outputs": [
        {
          "output_type": "stream",
          "name": "stdout",
          "text": [
            "   Department  Year  Student_Count\n",
            "0         CSE     1            635\n",
            "1         CSE     2            665\n",
            "2         CSE     3            654\n",
            "3         CSE     4            649\n",
            "4         ECE     1            641\n",
            "5         ECE     2            604\n",
            "6         ECE     3            639\n",
            "7         ECE     4            652\n",
            "8         EEE     1            581\n",
            "9         EEE     2            542\n",
            "10        EEE     3            628\n",
            "11        EEE     4            651\n",
            "12         IT     1            626\n",
            "13         IT     2            630\n",
            "14         IT     3            604\n",
            "15         IT     4            599\n"
          ]
        },
        {
          "output_type": "display_data",
          "data": {
            "text/plain": [
              "<Figure size 1000x600 with 1 Axes>"
            ],
            "image/png": "[encoded data removed]"
          },
          "metadata": {}
        }
      ]
    },
    {
      "cell_type": "markdown",
      "source": [
        "#####The above graph shows how many students are present in a particular department in a particular year"
      ],
      "metadata": {
        "id": "YcLcbqMTlvF3"
      }
    },
    {
      "cell_type": "code",
      "source": [
        "# Convert marks (out of 100) to CGPA (out of 10)\n",
        "df[\"CGPA\"] = df[subjects].mean(axis=1) / 10\n",
        "\n",
        "# Display summary statistics\n",
        "print(df[\"CGPA\"].describe())\n",
        "\n",
        "# Visualizing CGPA Distribution\n",
        "plt.figure(figsize=(8, 5))\n",
        "sns.histplot(df[\"CGPA\"], bins=20, kde=True, color=\"green\")\n",
        "plt.xlabel(\"CGPA\")\n",
        "plt.ylabel(\"Number of Students\")\n",
        "plt.title(\"CGPA Distribution of Students\")\n",
        "plt.show()\n"
      ],
      "metadata": {
        "colab": {
          "base_uri": "https://localhost:8080/",
          "height": 643
        },
        "id": "5_4BoBZ3l6Zu",
        "outputId": "cb60bc63-1617-4bb4-8cdb-c92d77133afb"
      },
      "execution_count": null,
      "outputs": [
        {
          "output_type": "stream",
          "name": "stdout",
          "text": [
            "count    10000.000000\n",
            "mean         6.507678\n",
            "std          0.832673\n",
            "min          3.950000\n",
            "25%          5.933333\n",
            "50%          6.500000\n",
            "75%          7.066667\n",
            "max          9.533333\n",
            "Name: CGPA, dtype: float64\n"
          ]
        },
        {
          "output_type": "display_data",
          "data": {
            "text/plain": [
              "<Figure size 800x500 with 1 Axes>"
            ],
            "image/png": "[encoded data removed]"
          },
          "metadata": {}
        }
      ]
    },
    {
      "cell_type": "markdown",
      "source": [
        "#####This plotting shows the cgpa distribution of the students"
      ],
      "metadata": {
        "id": "wI-iIy8LmIjw"
      }
    },
    {
      "cell_type": "markdown",
      "source": [
        "#####The below code helps us to find the cgpa distribution of the students department wise, it will be a even more detailed analysis"
      ],
      "metadata": {
        "id": "84wWsiUjmTGX"
      }
    },
    {
      "cell_type": "code",
      "source": [
        "# Calculate average CGPA per department\n",
        "dept_cgpa = df.groupby(\"Department\")[\"CGPA\"].mean().sort_values()\n",
        "\n",
        "print(\"Average CGPA per Department:\\n\", dept_cgpa)\n",
        "\n",
        "# Visualizing department-wise CGPA\n",
        "plt.figure(figsize=(8, 5))\n",
        "sns.barplot(x=dept_cgpa.index, y=dept_cgpa.values, palette=\"viridis\")\n",
        "plt.xlabel(\"Department\")\n",
        "plt.ylabel(\"Average CGPA\")\n",
        "plt.title(\"Department-Wise Average CGPA\")\n",
        "plt.show()"
      ],
      "metadata": {
        "colab": {
          "base_uri": "https://localhost:8080/",
          "height": 715
        },
        "id": "to4rX0IcmQX6",
        "outputId": "f1cc7a78-0839-4f47-e6a5-87004c4d0526"
      },
      "execution_count": null,
      "outputs": [
        {
          "output_type": "stream",
          "name": "stdout",
          "text": [
            "Average CGPA per Department:\n",
            " Department\n",
            "ECE    6.493237\n",
            "CSE    6.505769\n",
            "EEE    6.510297\n",
            "IT     6.522035\n",
            "Name: CGPA, dtype: float64\n"
          ]
        },
        {
          "output_type": "stream",
          "name": "stderr",
          "text": [
            "<ipython-input-22-bf109a12d951>:8: FutureWarning: \n",
            "\n",
            "Passing `palette` without assigning `hue` is deprecated and will be removed in v0.14.0. Assign the `x` variable to `hue` and set `legend=False` for the same effect.\n",
            "\n",
            "  sns.barplot(x=dept_cgpa.index, y=dept_cgpa.values, palette=\"viridis\")\n"
          ]
        },
        {
          "output_type": "display_data",
          "data": {
            "text/plain": [
              "<Figure size 800x500 with 1 Axes>"
            ],
            "image/png": "[encoded data removed]"
          },
          "metadata": {}
        }
      ]
    },
    {
      "cell_type": "code",
      "source": [
        "# Calculate average CGPA per year\n",
        "year_cgpa = df.groupby(\"Year\")[\"CGPA\"].mean()\n",
        "\n",
        "print(\"Average CGPA per Year:\\n\", year_cgpa)\n",
        "\n",
        "# Visualizing year-wise CGPA trend\n",
        "plt.figure(figsize=(8, 5))\n",
        "sns.lineplot(x=year_cgpa.index, y=year_cgpa.values, marker=\"o\", color=\"blue\")\n",
        "plt.xlabel(\"Year of Study\")\n",
        "plt.ylabel(\"Average CGPA\")\n",
        "plt.title(\"CGPA Trend Across Different Years\")\n",
        "plt.xticks([1, 2, 3, 4])\n",
        "plt.show()"
      ],
      "metadata": {
        "colab": {
          "base_uri": "https://localhost:8080/",
          "height": 608
        },
        "id": "qztl9LbXmoyP",
        "outputId": "b6bec4b8-0c91-4c2d-b6b7-5699dcc44d0d"
      },
      "execution_count": null,
      "outputs": [
        {
          "output_type": "stream",
          "name": "stdout",
          "text": [
            "Average CGPA per Year:\n",
            " Year\n",
            "1    6.486998\n",
            "2    6.523160\n",
            "3    6.497993\n",
            "4    6.522579\n",
            "Name: CGPA, dtype: float64\n"
          ]
        },
        {
          "output_type": "display_data",
          "data": {
            "text/plain": [
              "<Figure size 800x500 with 1 Axes>"
            ],
            "image/png": "[encoded data removed]"
          },
          "metadata": {}
        }
      ]
    },
    {
      "cell_type": "markdown",
      "source": [
        "#####The above graph shows the years wise cgpa analysis"
      ],
      "metadata": {
        "id": "h6CUJ-DmmrI5"
      }
    },
    {
      "cell_type": "markdown",
      "source": [
        "###These are the basic analysis any body managing a result management system would need, this concludes this basic project of Result Management System."
      ],
      "metadata": {
        "id": "NherhYCH15cy"
      }
    }
  ],
  "metadata": {
    "colab": {
      "provenance": []
    },
    "kernelspec": {
      "display_name": "Python 3",
      "name": "python3"
    },
    "language_info": {
      "name": "python"
    }
  },
  "nbformat": 4,
  "nbformat_minor": 0
}